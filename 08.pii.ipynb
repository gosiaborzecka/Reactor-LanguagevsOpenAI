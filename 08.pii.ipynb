{
 "cells": [
  {
   "cell_type": "code",
   "execution_count": 1,
   "metadata": {},
   "outputs": [],
   "source": [
    "key = \"{AzureLanguageServiceKey}\"\n",
    "endpoint = \"{AzureLanguageServiceEndpoint}\"\n",
    "\n"
   ]
  },
  {
   "cell_type": "code",
   "execution_count": 2,
   "metadata": {},
   "outputs": [
    {
     "name": "stdout",
     "output_type": "stream",
     "text": [
      "Redacted Text: The ********'s SSN is ***********.\n",
      "Entity: employee\n",
      "\tCategory: PersonType\n",
      "\tConfidence Score: 0.99\n",
      "\tOffset: 4\n",
      "\tLength: 8\n",
      "Entity: 859-98-0987\n",
      "\tCategory: USSocialSecurityNumber\n",
      "\tConfidence Score: 0.85\n",
      "\tOffset: 22\n",
      "\tLength: 11\n",
      "Redacted Text: The ********'s phone number is ************.\n",
      "Entity: employee\n",
      "\tCategory: PersonType\n",
      "\tConfidence Score: 0.99\n",
      "\tOffset: 4\n",
      "\tLength: 8\n",
      "Entity: 555-555-5555\n",
      "\tCategory: PhoneNumber\n",
      "\tConfidence Score: 0.8\n",
      "\tOffset: 31\n",
      "\tLength: 12\n"
     ]
    }
   ],
   "source": [
    "from azure.ai.textanalytics import TextAnalyticsClient\n",
    "from azure.core.credentials import AzureKeyCredential\n",
    "\n",
    "# Authenticate the client using your key and endpoint \n",
    "def authenticate_client():\n",
    "    ta_credential = AzureKeyCredential(key)\n",
    "    text_analytics_client = TextAnalyticsClient(\n",
    "            endpoint=endpoint, \n",
    "            credential=ta_credential)\n",
    "    return text_analytics_client\n",
    "\n",
    "client = authenticate_client()\n",
    "\n",
    "# Example method for detecting sensitive information (PII) from text \n",
    "def pii_recognition_example(client):\n",
    "    documents = [\n",
    "        \"The employee's SSN is 859-98-0987.\",\n",
    "        \"The employee's phone number is 555-555-5555.\"\n",
    "    ]\n",
    "    response = client.recognize_pii_entities(documents, language=\"en\")\n",
    "    result = [doc for doc in response if not doc.is_error]\n",
    "    for doc in result:\n",
    "        print(\"Redacted Text: {}\".format(doc.redacted_text))\n",
    "        for entity in doc.entities:\n",
    "            print(\"Entity: {}\".format(entity.text))\n",
    "            print(\"\\tCategory: {}\".format(entity.category))\n",
    "            print(\"\\tConfidence Score: {}\".format(entity.confidence_score))\n",
    "            print(\"\\tOffset: {}\".format(entity.offset))\n",
    "            print(\"\\tLength: {}\".format(entity.length))\n",
    "pii_recognition_example(client)"
   ]
  },
  {
   "cell_type": "code",
   "execution_count": 3,
   "metadata": {},
   "outputs": [
    {
     "name": "stdout",
     "output_type": "stream",
     "text": [
      "Original Text: My name is Gosia Borzecka and my phone number is 555-1234. I live in Nottingham on the address 123 Redmond Rd.\n",
      "Redacted Text: My name is *** and my phone number is ***. I live in Nottingham on the address ***\n"
     ]
    }
   ],
   "source": [
    "from azure.ai.textanalytics import TextAnalyticsClient\n",
    "from azure.core.credentials import AzureKeyCredential\n",
    "\n",
    "def authenticate_client():\n",
    "    ta_credential = AzureKeyCredential(key)\n",
    "    text_analytics_client = TextAnalyticsClient(\n",
    "            endpoint=endpoint,\n",
    "            credential=ta_credential)\n",
    "    return text_analytics_client\n",
    "\n",
    "def pii_redaction_example(client, input_text):\n",
    "    # Detecting PII entities in the text\n",
    "    response = client.recognize_pii_entities(documents=[input_text])[0]\n",
    "\n",
    "    # Redacting PII from the text\n",
    "    redacted_text = input_text\n",
    "    for entity in response.entities:\n",
    "        redacted_text = redacted_text.replace(entity.text, \"***\")\n",
    "\n",
    "    return redacted_text\n",
    "\n",
    "# Authenticate the client\n",
    "client = authenticate_client()\n",
    "\n",
    "# Example text with PII\n",
    "example_text = \"My name is Gosia Borzecka and my phone number is 555-1234. I live in Nottingham on the address 123 Redmond Rd.\"\n",
    "\n",
    "# Redacting PII\n",
    "redacted = pii_redaction_example(client, example_text)\n",
    "print(\"Original Text:\", example_text)\n",
    "print(\"Redacted Text:\", redacted)\n"
   ]
  },
  {
   "cell_type": "code",
   "execution_count": 4,
   "metadata": {},
   "outputs": [
    {
     "name": "stdout",
     "output_type": "stream",
     "text": [
      "My name is Gosia Borzecka and my phone number is 555-1234. I live in Nottingham on the address 123 Redmond Rd.\n",
      "My name is *** and my phone number is ***. I live in *** on the address ***.\n",
      "***\n"
     ]
    }
   ],
   "source": [
    "from openai import OpenAI\n",
    "\n",
    "client = OpenAI(\n",
    "    # defaults to os.environ.get(\"OPENAI_API_KEY\")\n",
    "    api_key=\"{OpenAIKey}\",\n",
    ")\n",
    "\n",
    "text = \"My name is Gosia Borzecka and my phone number is 555-1234. I live in Nottingham on the address 123 Redmond Rd.\"\n",
    "\n",
    "completion = client.chat.completions.create(\n",
    "    model=\"gpt-4\",\n",
    "    messages = [\n",
    "        {\"role\": \"system\", \"content\": \"You are an AI language model trained to get protect PII.\"},\n",
    "        {\"role\": \"user\", \"content\": f\"If you found in text PII, return PII text with '***': {text}\"}\n",
    "    ]\n",
    ")\n",
    "\n",
    "print(text)\n",
    "print(completion.choices[0].message.content)\n",
    "print(\"***\")"
   ]
  }
 ],
 "metadata": {
  "kernelspec": {
   "display_name": "Python 3",
   "language": "python",
   "name": "python3"
  },
  "language_info": {
   "codemirror_mode": {
    "name": "ipython",
    "version": 3
   },
   "file_extension": ".py",
   "mimetype": "text/x-python",
   "name": "python",
   "nbconvert_exporter": "python",
   "pygments_lexer": "ipython3",
   "version": "3.10.6"
  }
 },
 "nbformat": 4,
 "nbformat_minor": 2
}
